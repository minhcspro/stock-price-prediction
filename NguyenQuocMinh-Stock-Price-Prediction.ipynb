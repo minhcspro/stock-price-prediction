{
  "cells": [
    {
      "cell_type": "code",
      "execution_count": 1,
      "metadata": {
        "id": "DhLgh_ilcEqc"
      },
      "outputs": [],
      "source": [
        "# Khai báo thư viện\n",
        "import pandas as pd\n",
        "import numpy as np\n",
        "import math\n",
        "import time\n",
        "import matplotlib.pyplot as plt\n",
        "import plotly.graph_objects as go\n",
        "import plotly.express as px\n",
        "from itertools import cycle\n",
        "from plotly.subplots import make_subplots\n",
        "from datetime import datetime,timedelta\n",
        "from sklearn.model_selection import train_test_split\n",
        "from sklearn.preprocessing import StandardScaler, MinMaxScaler\n",
        "from tensorflow.keras.models import load_model\n",
        "from tensorflow.keras import regularizers\n",
        "from keras.callbacks import EarlyStopping\n",
        "from keras.callbacks import ModelCheckpoint\n",
        "\n",
        "# Các lớp để xây dựng mô hình\n",
        "from sklearn.svm import SVR\n",
        "from sklearn.tree import DecisionTreeRegressor\n",
        "from sklearn.ensemble import RandomForestRegressor\n",
        "from sklearn.neural_network import MLPRegressor\n",
        "from keras.models import Sequential\n",
        "from keras.layers import LSTM\n",
        "from keras.layers import Dropout\n",
        "from keras.layers import Dense\n",
        "from keras.layers import SimpleRNN\n",
        "\n",
        "# Kiểm tra độ chính xác của mô hình\n",
        "from sklearn.metrics import r2_score\n",
        "from sklearn.metrics import accuracy_score\n",
        "from sklearn.metrics import mean_squared_error\n",
        "from sklearn.metrics import mean_absolute_error\n",
        "from sklearn.metrics import mean_absolute_percentage_error"
      ]
    },
    {
      "cell_type": "code",
      "execution_count": 26,
      "metadata": {
        "id": "JzcN7ZUqnYJu"
      },
      "outputs": [],
      "source": [
        "# Các hàm hỗ trợ\n",
        "# Hàm kiểm tra 2 tham số truyền vào có là sublist\n",
        "def sublist(lst1, lst2):\n",
        "    return set(lst1) <= set(lst2)\n",
        "\n",
        "# Hàm scale dữ liệu về [0;1]\n",
        "def scale_data(data_train=None, data_test=None, target=None, scale_back=False, scaler=None, data=None):\n",
        "    if not scale_back:\n",
        "        target_scaler = MinMaxScaler().fit(data_train[target])\n",
        "        data_train[target] = target_scaler.transform(data_train[target])\n",
        "        data_test[target] = target_scaler.transform(data_test[target])\n",
        "        return target_scaler, data_train[target], data_test[target]\n",
        "\n",
        "    if len(data.shape) == 3:\n",
        "        nsamples, nx, ny = data.shape\n",
        "        y_pred = data.reshape((nsamples,nx*ny))\n",
        "        y_pred = scaler.inverse_transform(y_pred)[:,-1]\n",
        "        y_pred = y_pred.reshape(-1,1)\n",
        "    else:\n",
        "        y_pred = scaler.inverse_transform(data)\n",
        "\n",
        "    return y_pred\n",
        "\n",
        "# Hàm xây dựng dữ liệu: X_train, y_train, X_test, y_test\n",
        "def build_data(data, look_back, features, target):\n",
        "    X, y = [], []\n",
        "\n",
        "    for i in range(look_back, data.shape[0]):\n",
        "        if(sublist(target,features)):\n",
        "            X.append(data[features].iloc[i - look_back: i])\n",
        "        else:\n",
        "            X.append(data[features + target].iloc[i - look_back: i])\n",
        "        y.append(data[target].iloc[i])\n",
        "\n",
        "    X, y = np.array(X), np.array(y)\n",
        "    return X, y\n",
        "\n",
        "# Hàm fit X_train, y_train. Sau đó evaluate X_test, y_test ứng với model truyền vào\n",
        "# Trả về model để thực hiện predict\n",
        "def model_training(model, X_train, y_train, X_test, y_test):\n",
        "    model.compile(optimizer='adam', loss='mean_squared_error')\n",
        "    train_history=model.fit(X_train, y_train, epochs=30, batch_size=32, verbose=0)\n",
        "    model.evaluate(X_test, y_test, verbose=0)\n",
        "    \n",
        "    return train_history"
      ]
    },
    {
      "cell_type": "code",
      "execution_count": 11,
      "metadata": {
        "colab": {
          "base_uri": "https://localhost:8080/",
          "height": 206
        },
        "id": "8mwicyeBdJv6",
        "outputId": "1730c4b5-ddf8-4b23-a953-f00549bbea25"
      },
      "outputs": [
        {
          "data": {
            "text/html": [
              "<div>\n",
              "<style scoped>\n",
              "    .dataframe tbody tr th:only-of-type {\n",
              "        vertical-align: middle;\n",
              "    }\n",
              "\n",
              "    .dataframe tbody tr th {\n",
              "        vertical-align: top;\n",
              "    }\n",
              "\n",
              "    .dataframe thead th {\n",
              "        text-align: right;\n",
              "    }\n",
              "</style>\n",
              "<table border=\"1\" class=\"dataframe\">\n",
              "  <thead>\n",
              "    <tr style=\"text-align: right;\">\n",
              "      <th></th>\n",
              "      <th>Ticker</th>\n",
              "      <th>Date/Time</th>\n",
              "      <th>Open</th>\n",
              "      <th>High</th>\n",
              "      <th>Low</th>\n",
              "      <th>Close</th>\n",
              "      <th>Volume</th>\n",
              "      <th>Open Interest</th>\n",
              "    </tr>\n",
              "  </thead>\n",
              "  <tbody>\n",
              "    <tr>\n",
              "      <th>0</th>\n",
              "      <td>VIC</td>\n",
              "      <td>10/17/2018 9:39</td>\n",
              "      <td>98.5</td>\n",
              "      <td>98.5</td>\n",
              "      <td>98.5</td>\n",
              "      <td>98.5</td>\n",
              "      <td>390</td>\n",
              "      <td>0</td>\n",
              "    </tr>\n",
              "    <tr>\n",
              "      <th>1</th>\n",
              "      <td>VIC</td>\n",
              "      <td>10/17/2018 9:40</td>\n",
              "      <td>98.5</td>\n",
              "      <td>98.5</td>\n",
              "      <td>98.5</td>\n",
              "      <td>98.5</td>\n",
              "      <td>760</td>\n",
              "      <td>0</td>\n",
              "    </tr>\n",
              "    <tr>\n",
              "      <th>2</th>\n",
              "      <td>VIC</td>\n",
              "      <td>10/17/2018 9:41</td>\n",
              "      <td>98.6</td>\n",
              "      <td>98.6</td>\n",
              "      <td>98.6</td>\n",
              "      <td>98.6</td>\n",
              "      <td>2060</td>\n",
              "      <td>0</td>\n",
              "    </tr>\n",
              "    <tr>\n",
              "      <th>3</th>\n",
              "      <td>VIC</td>\n",
              "      <td>10/17/2018 9:42</td>\n",
              "      <td>98.6</td>\n",
              "      <td>98.6</td>\n",
              "      <td>98.6</td>\n",
              "      <td>98.6</td>\n",
              "      <td>5540</td>\n",
              "      <td>0</td>\n",
              "    </tr>\n",
              "    <tr>\n",
              "      <th>4</th>\n",
              "      <td>VIC</td>\n",
              "      <td>10/17/2018 9:43</td>\n",
              "      <td>98.6</td>\n",
              "      <td>98.7</td>\n",
              "      <td>98.6</td>\n",
              "      <td>98.7</td>\n",
              "      <td>760</td>\n",
              "      <td>0</td>\n",
              "    </tr>\n",
              "  </tbody>\n",
              "</table>\n",
              "</div>"
            ],
            "text/plain": [
              "  Ticker        Date/Time  Open  High   Low  Close  Volume  Open Interest\n",
              "0    VIC  10/17/2018 9:39  98.5  98.5  98.5   98.5     390              0\n",
              "1    VIC  10/17/2018 9:40  98.5  98.5  98.5   98.5     760              0\n",
              "2    VIC  10/17/2018 9:41  98.6  98.6  98.6   98.6    2060              0\n",
              "3    VIC  10/17/2018 9:42  98.6  98.6  98.6   98.6    5540              0\n",
              "4    VIC  10/17/2018 9:43  98.6  98.7  98.6   98.7     760              0"
            ]
          },
          "execution_count": 11,
          "metadata": {},
          "output_type": "execute_result"
        }
      ],
      "source": [
        "# Đọc dữ liệu\n",
        "# Path: /content/drive/MyDrive/Colab Notebooks/Stock Price Prediction/data/VIC.csv\n",
        "df1 = pd.read_csv(\"./data/VIC.csv\")\n",
        "df2 = pd.read_csv(\"./data/MSN.csv\")\n",
        "df3 = pd.read_csv(\"./data/PNJ.csv\")\n",
        "df4 = pd.read_csv(\"./data/FPT.csv\")\n",
        "\n",
        "# Tạo dataframe mới\n",
        "df = pd.concat([df1, df2, df3, df4])\n",
        "df.head()"
      ]
    },
    {
      "cell_type": "code",
      "execution_count": 12,
      "metadata": {
        "colab": {
          "base_uri": "https://localhost:8080/",
          "height": 206
        },
        "id": "B_4CHTtZeqdR",
        "outputId": "3068f2fe-a179-46a8-9eb7-41ab0d9d9024"
      },
      "outputs": [
        {
          "data": {
            "text/html": [
              "<div>\n",
              "<style scoped>\n",
              "    .dataframe tbody tr th:only-of-type {\n",
              "        vertical-align: middle;\n",
              "    }\n",
              "\n",
              "    .dataframe tbody tr th {\n",
              "        vertical-align: top;\n",
              "    }\n",
              "\n",
              "    .dataframe thead th {\n",
              "        text-align: right;\n",
              "    }\n",
              "</style>\n",
              "<table border=\"1\" class=\"dataframe\">\n",
              "  <thead>\n",
              "    <tr style=\"text-align: right;\">\n",
              "      <th></th>\n",
              "      <th>ticker</th>\n",
              "      <th>date</th>\n",
              "      <th>open</th>\n",
              "      <th>high</th>\n",
              "      <th>low</th>\n",
              "      <th>close</th>\n",
              "      <th>volume</th>\n",
              "    </tr>\n",
              "  </thead>\n",
              "  <tbody>\n",
              "    <tr>\n",
              "      <th>0</th>\n",
              "      <td>MSN</td>\n",
              "      <td>2017-12-25</td>\n",
              "      <td>73.1</td>\n",
              "      <td>73.1</td>\n",
              "      <td>73.1</td>\n",
              "      <td>73.1</td>\n",
              "      <td>4210</td>\n",
              "    </tr>\n",
              "    <tr>\n",
              "      <th>33</th>\n",
              "      <td>MSN</td>\n",
              "      <td>2017-12-25</td>\n",
              "      <td>73.2</td>\n",
              "      <td>73.2</td>\n",
              "      <td>73.2</td>\n",
              "      <td>73.2</td>\n",
              "      <td>230</td>\n",
              "    </tr>\n",
              "    <tr>\n",
              "      <th>34</th>\n",
              "      <td>MSN</td>\n",
              "      <td>2017-12-25</td>\n",
              "      <td>73.3</td>\n",
              "      <td>73.3</td>\n",
              "      <td>73.3</td>\n",
              "      <td>73.3</td>\n",
              "      <td>50</td>\n",
              "    </tr>\n",
              "    <tr>\n",
              "      <th>35</th>\n",
              "      <td>MSN</td>\n",
              "      <td>2017-12-25</td>\n",
              "      <td>73.3</td>\n",
              "      <td>73.3</td>\n",
              "      <td>73.3</td>\n",
              "      <td>73.3</td>\n",
              "      <td>440</td>\n",
              "    </tr>\n",
              "    <tr>\n",
              "      <th>36</th>\n",
              "      <td>MSN</td>\n",
              "      <td>2017-12-25</td>\n",
              "      <td>73.4</td>\n",
              "      <td>73.5</td>\n",
              "      <td>73.4</td>\n",
              "      <td>73.5</td>\n",
              "      <td>6200</td>\n",
              "    </tr>\n",
              "  </tbody>\n",
              "</table>\n",
              "</div>"
            ],
            "text/plain": [
              "   ticker        date  open  high   low  close  volume\n",
              "0     MSN  2017-12-25  73.1  73.1  73.1   73.1    4210\n",
              "33    MSN  2017-12-25  73.2  73.2  73.2   73.2     230\n",
              "34    MSN  2017-12-25  73.3  73.3  73.3   73.3      50\n",
              "35    MSN  2017-12-25  73.3  73.3  73.3   73.3     440\n",
              "36    MSN  2017-12-25  73.4  73.5  73.4   73.5    6200"
            ]
          },
          "execution_count": 12,
          "metadata": {},
          "output_type": "execute_result"
        }
      ],
      "source": [
        "# Chuẩn hóa dữ liệu\n",
        "df = df.rename(columns={'Date/Time': 'date'})\n",
        "df.columns = df.columns.str.lower()\n",
        "df = df.drop(df.columns[-1], axis=1) # Xóa bỏ cột dư thừa\n",
        "df['date'] = pd.to_datetime(df['date']).dt.date\n",
        "df.sort_values(by='date', inplace=True) # Sắp xếp theo ngày\n",
        "df.head()"
      ]
    },
    {
      "cell_type": "code",
      "execution_count": 13,
      "metadata": {
        "colab": {
          "base_uri": "https://localhost:8080/"
        },
        "id": "kxpl3k5SgNl6",
        "outputId": "1868c6c3-c794-4fb5-af9c-4319debe8a4d"
      },
      "outputs": [
        {
          "name": "stdout",
          "output_type": "stream",
          "text": [
            "<class 'pandas.core.frame.DataFrame'>\n",
            "Int64Index: 459335 entries, 0 to 97405\n",
            "Data columns (total 7 columns):\n",
            " #   Column  Non-Null Count   Dtype  \n",
            "---  ------  --------------   -----  \n",
            " 0   ticker  459335 non-null  object \n",
            " 1   date    459335 non-null  object \n",
            " 2   open    459335 non-null  float64\n",
            " 3   high    459335 non-null  float64\n",
            " 4   low     459335 non-null  float64\n",
            " 5   close   459335 non-null  float64\n",
            " 6   volume  459335 non-null  int64  \n",
            "dtypes: float64(4), int64(1), object(2)\n",
            "memory usage: 28.0+ MB\n"
          ]
        }
      ],
      "source": [
        "# Tổng quan bộ dữ liệu\n",
        "df.info()"
      ]
    },
    {
      "cell_type": "code",
      "execution_count": 20,
      "metadata": {
        "colab": {
          "base_uri": "https://localhost:8080/",
          "height": 224
        },
        "id": "KwpqQokRjinC",
        "outputId": "7d618adf-434b-46ab-e579-c736418ca7fa"
      },
      "outputs": [
        {
          "data": {
            "text/html": [
              "<div>\n",
              "<style scoped>\n",
              "    .dataframe tbody tr th:only-of-type {\n",
              "        vertical-align: middle;\n",
              "    }\n",
              "\n",
              "    .dataframe tbody tr th {\n",
              "        vertical-align: top;\n",
              "    }\n",
              "\n",
              "    .dataframe thead th {\n",
              "        text-align: right;\n",
              "    }\n",
              "</style>\n",
              "<table border=\"1\" class=\"dataframe\">\n",
              "  <thead>\n",
              "    <tr style=\"text-align: right;\">\n",
              "      <th></th>\n",
              "      <th>open</th>\n",
              "      <th>high</th>\n",
              "      <th>low</th>\n",
              "      <th>close</th>\n",
              "      <th>volume</th>\n",
              "    </tr>\n",
              "    <tr>\n",
              "      <th>date</th>\n",
              "      <th></th>\n",
              "      <th></th>\n",
              "      <th></th>\n",
              "      <th></th>\n",
              "      <th></th>\n",
              "    </tr>\n",
              "  </thead>\n",
              "  <tbody>\n",
              "    <tr>\n",
              "      <th>2018-10-17</th>\n",
              "      <td>98.645833</td>\n",
              "      <td>98.679762</td>\n",
              "      <td>98.615476</td>\n",
              "      <td>98.645238</td>\n",
              "      <td>7539.345238</td>\n",
              "    </tr>\n",
              "    <tr>\n",
              "      <th>2018-10-18</th>\n",
              "      <td>98.658011</td>\n",
              "      <td>98.697238</td>\n",
              "      <td>98.640331</td>\n",
              "      <td>98.666298</td>\n",
              "      <td>4951.049724</td>\n",
              "    </tr>\n",
              "    <tr>\n",
              "      <th>2018-10-19</th>\n",
              "      <td>97.586772</td>\n",
              "      <td>97.634392</td>\n",
              "      <td>97.556614</td>\n",
              "      <td>97.602646</td>\n",
              "      <td>4845.873016</td>\n",
              "    </tr>\n",
              "    <tr>\n",
              "      <th>2018-10-22</th>\n",
              "      <td>99.153333</td>\n",
              "      <td>99.203333</td>\n",
              "      <td>99.130556</td>\n",
              "      <td>99.165556</td>\n",
              "      <td>2982.944444</td>\n",
              "    </tr>\n",
              "    <tr>\n",
              "      <th>2018-10-23</th>\n",
              "      <td>98.295402</td>\n",
              "      <td>98.345977</td>\n",
              "      <td>98.265517</td>\n",
              "      <td>98.312644</td>\n",
              "      <td>3498.563218</td>\n",
              "    </tr>\n",
              "  </tbody>\n",
              "</table>\n",
              "</div>"
            ],
            "text/plain": [
              "                 open       high        low      close       volume\n",
              "date                                                               \n",
              "2018-10-17  98.645833  98.679762  98.615476  98.645238  7539.345238\n",
              "2018-10-18  98.658011  98.697238  98.640331  98.666298  4951.049724\n",
              "2018-10-19  97.586772  97.634392  97.556614  97.602646  4845.873016\n",
              "2018-10-22  99.153333  99.203333  99.130556  99.165556  2982.944444\n",
              "2018-10-23  98.295402  98.345977  98.265517  98.312644  3498.563218"
            ]
          },
          "execution_count": 20,
          "metadata": {},
          "output_type": "execute_result"
        }
      ],
      "source": [
        "# Chọn mã cổ phiếu\n",
        "ticker = 'VIC'\n",
        "data = df.groupby('ticker').get_group(ticker).groupby('date').mean()\n",
        "data.head()"
      ]
    },
    {
      "cell_type": "code",
      "execution_count": 21,
      "metadata": {},
      "outputs": [
        {
          "name": "stdout",
          "output_type": "stream",
          "text": [
            "Các đặc trưng dùng để dự đoán ['close'] của mã cổ phiếu VIC:\n"
          ]
        },
        {
          "data": {
            "text/html": [
              "<div>\n",
              "<style scoped>\n",
              "    .dataframe tbody tr th:only-of-type {\n",
              "        vertical-align: middle;\n",
              "    }\n",
              "\n",
              "    .dataframe tbody tr th {\n",
              "        vertical-align: top;\n",
              "    }\n",
              "\n",
              "    .dataframe thead th {\n",
              "        text-align: right;\n",
              "    }\n",
              "</style>\n",
              "<table border=\"1\" class=\"dataframe\">\n",
              "  <thead>\n",
              "    <tr style=\"text-align: right;\">\n",
              "      <th></th>\n",
              "      <th>open</th>\n",
              "      <th>close</th>\n",
              "      <th>low</th>\n",
              "      <th>high</th>\n",
              "    </tr>\n",
              "    <tr>\n",
              "      <th>date</th>\n",
              "      <th></th>\n",
              "      <th></th>\n",
              "      <th></th>\n",
              "      <th></th>\n",
              "    </tr>\n",
              "  </thead>\n",
              "  <tbody>\n",
              "    <tr>\n",
              "      <th>2018-10-17</th>\n",
              "      <td>98.645833</td>\n",
              "      <td>98.645238</td>\n",
              "      <td>98.615476</td>\n",
              "      <td>98.679762</td>\n",
              "    </tr>\n",
              "    <tr>\n",
              "      <th>2018-10-18</th>\n",
              "      <td>98.658011</td>\n",
              "      <td>98.666298</td>\n",
              "      <td>98.640331</td>\n",
              "      <td>98.697238</td>\n",
              "    </tr>\n",
              "    <tr>\n",
              "      <th>2018-10-19</th>\n",
              "      <td>97.586772</td>\n",
              "      <td>97.602646</td>\n",
              "      <td>97.556614</td>\n",
              "      <td>97.634392</td>\n",
              "    </tr>\n",
              "    <tr>\n",
              "      <th>2018-10-22</th>\n",
              "      <td>99.153333</td>\n",
              "      <td>99.165556</td>\n",
              "      <td>99.130556</td>\n",
              "      <td>99.203333</td>\n",
              "    </tr>\n",
              "    <tr>\n",
              "      <th>2018-10-23</th>\n",
              "      <td>98.295402</td>\n",
              "      <td>98.312644</td>\n",
              "      <td>98.265517</td>\n",
              "      <td>98.345977</td>\n",
              "    </tr>\n",
              "  </tbody>\n",
              "</table>\n",
              "</div>"
            ],
            "text/plain": [
              "                 open      close        low       high\n",
              "date                                                  \n",
              "2018-10-17  98.645833  98.645238  98.615476  98.679762\n",
              "2018-10-18  98.658011  98.666298  98.640331  98.697238\n",
              "2018-10-19  97.586772  97.602646  97.556614  97.634392\n",
              "2018-10-22  99.153333  99.165556  99.130556  99.203333\n",
              "2018-10-23  98.295402  98.312644  98.265517  98.345977"
            ]
          },
          "execution_count": 21,
          "metadata": {},
          "output_type": "execute_result"
        }
      ],
      "source": [
        "# Trích xuất đặc trưng\n",
        "target = ['close']\n",
        "features = ['open','close','low','high']\n",
        "\n",
        "if (sublist(target, features)):\n",
        "  df_ticker = data[features]\n",
        "else:\n",
        "  df_ticker = data[features + target]\n",
        "\n",
        "print(f'Các đặc trưng dùng để dự đoán {target} của mã cổ phiếu {ticker}:')\n",
        "df_ticker.head()"
      ]
    },
    {
      "cell_type": "code",
      "execution_count": 22,
      "metadata": {
        "colab": {
          "base_uri": "https://localhost:8080/"
        },
        "id": "6gxeIYXgn6Dh",
        "outputId": "6a26deb1-448d-4940-aa03-34052dda30e9"
      },
      "outputs": [
        {
          "name": "stdout",
          "output_type": "stream",
          "text": [
            "Dữ liệu tập tổng thể: (548, 4)\n",
            "Dữ liệu tập training: (527, 4)\n",
            "Dữ liệu tập testing: (21, 4)\n"
          ]
        }
      ],
      "source": [
        "# Dùng 1 tuần trong quá khứ dể dự đoán 2 tuần tiếp theo\n",
        "look_back = 7\n",
        "days_predict = 14\n",
        "\n",
        "# Tách dữ liệu\n",
        "split = df_ticker.shape[0]-(days_predict+look_back)\n",
        "df_train = df_ticker.iloc[:split, :].copy()\n",
        "df_test = df_ticker.iloc[split:, :].copy()\n",
        "\n",
        "print(\"Dữ liệu tập tổng thể:\",df_ticker.shape)\n",
        "print(\"Dữ liệu tập training:\",df_train.shape)\n",
        "print(\"Dữ liệu tập testing:\",df_test.shape)"
      ]
    },
    {
      "cell_type": "code",
      "execution_count": 23,
      "metadata": {
        "id": "kFZ7kaqrp-0d"
      },
      "outputs": [],
      "source": [
        "# Scale dữ liệu\n",
        "target_scaler, df_train[target], df_test[target] = scale_data(df_train, df_test, target)\n",
        "features_scaler, df_train[features], df_test[features] = scale_data(df_train, df_test, features)"
      ]
    },
    {
      "cell_type": "code",
      "execution_count": 24,
      "metadata": {
        "colab": {
          "base_uri": "https://localhost:8080/"
        },
        "id": "y7ynJZfLrG-s",
        "outputId": "17a0811a-700d-4508-8661-477598ffd81c"
      },
      "outputs": [
        {
          "name": "stdout",
          "output_type": "stream",
          "text": [
            "Dữ liệu Train sau khi scale về [0;1]:\n",
            "                 open     close       low      high\n",
            "date                                              \n",
            "2018-10-17  0.493154  0.493426  0.493728  0.493028\n",
            "2018-10-18  0.493384  0.493823  0.494195  0.493357\n",
            "2018-10-19  0.473209  0.473801  0.473811  0.473327\n",
            "2018-10-22  0.502712  0.503220  0.503416  0.502895\n",
            "2018-10-23  0.486554  0.487166  0.487145  0.486738\n",
            "\n",
            "Dữ liệu Test sau khi scale về [0;1]:\n",
            "                 open     close       low      high\n",
            "date                                              \n",
            "2020-11-24  0.587620  0.587826  0.587827  0.587648\n",
            "2020-11-25  0.619868  0.619999  0.619849  0.619964\n",
            "2020-11-26  0.615602  0.615819  0.615943  0.615492\n",
            "2020-11-27  0.621009  0.621268  0.621447  0.620910\n",
            "2020-11-30  0.597974  0.597847  0.597821  0.597987\n"
          ]
        }
      ],
      "source": [
        "print(f'Dữ liệu Train sau khi scale về [0;1]:\\n {df_train.head()}')\n",
        "print(f'\\nDữ liệu Test sau khi scale về [0;1]:\\n {df_test.head()}')"
      ]
    },
    {
      "cell_type": "code",
      "execution_count": 25,
      "metadata": {
        "id": "GnNm0yc-rxlb"
      },
      "outputs": [],
      "source": [
        "# Chuẩn bị dữ liệu X_train, y_train, X_test, y_test\n",
        "X_train, y_train = build_data(df_train, look_back, features, target)\n",
        "X_test, y_test = build_data(df_test, look_back, features, target)"
      ]
    },
    {
      "cell_type": "code",
      "execution_count": 27,
      "metadata": {
        "id": "KrU0YG-mse4f"
      },
      "outputs": [],
      "source": [
        "# Xây dựng mô hình\n",
        "model = Sequential()\n",
        "model.add(SimpleRNN(units=32, input_shape=(X_train.shape[1:]), return_sequences=True))\n",
        "model.add(SimpleRNN(units=32))\n",
        "model.add(Dense(units=1))"
      ]
    },
    {
      "cell_type": "code",
      "execution_count": 30,
      "metadata": {},
      "outputs": [
        {
          "name": "stdout",
          "output_type": "stream",
          "text": [
            "17/17 [==============================] - 0s 5ms/step\n",
            "Thời gian dự đoán tập train: 0.214s\n"
          ]
        }
      ],
      "source": [
        "# Sử dụng mô hình để dự đoán tập train\n",
        "time_start = time.time()\n",
        "y_train_predict = model.predict(X_train)\n",
        "training_time_rnn = time.time() - time_start\n",
        "print(f'Thời gian dự đoán tập train: {round(training_time_rnn,3)}s')"
      ]
    },
    {
      "cell_type": "code",
      "execution_count": 29,
      "metadata": {},
      "outputs": [
        {
          "name": "stdout",
          "output_type": "stream",
          "text": [
            "1/1 [==============================] - 0s 300ms/step\n",
            "Thời gian dự đoán tập test: 0.37s\n"
          ]
        }
      ],
      "source": [
        "# Sử dụng mô hình để dự đoán tập Test\n",
        "time_start = time.time()\n",
        "y_test_predict = model.predict(X_test)\n",
        "testing_time_rnn = time.time() - time_start\n",
        "print(f'Thời gian dự đoán tập test: {round(testing_time_rnn,3)}s')"
      ]
    },
    {
      "cell_type": "code",
      "execution_count": 31,
      "metadata": {},
      "outputs": [],
      "source": [
        "# Do scailing nên khi so sánh thì ta phải đổi các giá trị về lại dạng gốc\n",
        "y_train = scale_data(scale_back=True, scaler=target_scaler, data=y_train) # Dữ liệu thực\n",
        "y_train_predict = scale_data(scale_back=True, scaler=target_scaler, data=y_train_predict) # Dự liệu dự đoán\n",
        "\n",
        "y_test = scale_data(scale_back=True, scaler=target_scaler, data=y_test) # Dữ liệu thực\n",
        "y_test_predict = scale_data(scale_back=True, scaler=target_scaler, data=y_test_predict) # Dữ liệu dự đoán"
      ]
    },
    {
      "cell_type": "code",
      "execution_count": 43,
      "metadata": {},
      "outputs": [
        {
          "name": "stdout",
          "output_type": "stream",
          "text": [
            "\n"
          ]
        },
        {
          "data": {
            "image/png": "[encoded data removed]",
            "text/plain": [
              "<Figure size 432x288 with 1 Axes>"
            ]
          },
          "metadata": {
            "needs_background": "light"
          },
          "output_type": "display_data"
        }
      ],
      "source": [
        "# Đánh giá mô hình\n",
        "data = data.reset_index()\n",
        "data=data['date'][-days_predict:]\n",
        "plt.figure()\n",
        "plt.ylabel(\"Tỷ VND\")\n",
        "plt.xlabel(\"Thời gian\")\n",
        "plt.plot(data,y_test)\n",
        "plt.plot(data,y_test_predict)\n",
        "plt.legend(['Giá trị thực','Giá trị dự đoán'])\n",
        "plt.xticks(rotation=45)\n",
        "print()"
      ]
    }
  ],
  "metadata": {
    "colab": {
      "provenance": []
    },
    "kernelspec": {
      "display_name": "Python 3",
      "name": "python3"
    },
    "language_info": {
      "codemirror_mode": {
        "name": "ipython",
        "version": 3
      },
      "file_extension": ".py",
      "mimetype": "text/x-python",
      "name": "python",
      "nbconvert_exporter": "python",
      "pygments_lexer": "ipython3",
      "version": "3.9.7"
    }
  },
  "nbformat": 4,
  "nbformat_minor": 0
}
